{
 "cells": [
  {
   "cell_type": "markdown",
   "metadata": {},
   "source": [
    "## Plotting geographic data with Plotly  \n"
   ]
  },
  {
   "cell_type": "code",
   "execution_count": 1,
   "metadata": {},
   "outputs": [],
   "source": [
    "import plotly\n",
    "import geopandas as gpd"
   ]
  },
  {
   "cell_type": "markdown",
   "metadata": {},
   "source": [
    "We'll use publicly accessible data downloaded from a few locations:\n",
    " - Shapefiles will be from the ONS, specifically [here](https://geoportal.statistics.gov.uk/datasets/wards-december-2020-uk-bfc-v2)\n",
    " - I'll use public data as a demo for combining geographic datasets from [NOMIS](https://www.nomisweb.co.uk/)"
   ]
  },
  {
   "cell_type": "markdown",
   "metadata": {},
   "source": [
    "We'll use a shape file to describe the geography, and handily there is the geopandas package which can load them in a fimaliar dataframe format."
   ]
  },
  {
   "cell_type": "code",
   "execution_count": 2,
   "metadata": {},
   "outputs": [],
   "source": [
    "geo_data = gpd.read_file('../data/Wards__December_2020__UK_BFC_V2-shp/Wards__December_2020__UK_BFC_V2.shp')"
   ]
  },
  {
   "cell_type": "code",
   "execution_count": 3,
   "metadata": {},
   "outputs": [
    {
     "data": {
      "text/html": [
       "<div>\n",
       "<style scoped>\n",
       "    .dataframe tbody tr th:only-of-type {\n",
       "        vertical-align: middle;\n",
       "    }\n",
       "\n",
       "    .dataframe tbody tr th {\n",
       "        vertical-align: top;\n",
       "    }\n",
       "\n",
       "    .dataframe thead th {\n",
       "        text-align: right;\n",
       "    }\n",
       "</style>\n",
       "<table border=\"1\" class=\"dataframe\">\n",
       "  <thead>\n",
       "    <tr style=\"text-align: right;\">\n",
       "      <th></th>\n",
       "      <th>OBJECTID</th>\n",
       "      <th>WD20CD</th>\n",
       "      <th>WD20NM</th>\n",
       "      <th>WD20NMW</th>\n",
       "      <th>BNG_E</th>\n",
       "      <th>BNG_N</th>\n",
       "      <th>LONG</th>\n",
       "      <th>LAT</th>\n",
       "      <th>Shape__Are</th>\n",
       "      <th>Shape__Len</th>\n",
       "      <th>geometry</th>\n",
       "    </tr>\n",
       "  </thead>\n",
       "  <tbody>\n",
       "    <tr>\n",
       "      <th>0</th>\n",
       "      <td>1</td>\n",
       "      <td>E05000026</td>\n",
       "      <td>Abbey</td>\n",
       "      <td>None</td>\n",
       "      <td>544433</td>\n",
       "      <td>184376</td>\n",
       "      <td>0.081276</td>\n",
       "      <td>51.53981</td>\n",
       "      <td>1.253243e+06</td>\n",
       "      <td>8139.563625</td>\n",
       "      <td>MULTIPOLYGON (((543581.800 184798.250, 543579....</td>\n",
       "    </tr>\n",
       "    <tr>\n",
       "      <th>1</th>\n",
       "      <td>2</td>\n",
       "      <td>E05000027</td>\n",
       "      <td>Alibon</td>\n",
       "      <td>None</td>\n",
       "      <td>549247</td>\n",
       "      <td>185196</td>\n",
       "      <td>0.150987</td>\n",
       "      <td>51.54592</td>\n",
       "      <td>1.364442e+06</td>\n",
       "      <td>6353.917640</td>\n",
       "      <td>POLYGON ((549604.103 185773.202, 549613.098 18...</td>\n",
       "    </tr>\n",
       "    <tr>\n",
       "      <th>2</th>\n",
       "      <td>3</td>\n",
       "      <td>E05000028</td>\n",
       "      <td>Becontree</td>\n",
       "      <td>None</td>\n",
       "      <td>546860</td>\n",
       "      <td>185870</td>\n",
       "      <td>0.116869</td>\n",
       "      <td>51.55261</td>\n",
       "      <td>1.292418e+06</td>\n",
       "      <td>6356.336313</td>\n",
       "      <td>POLYGON ((547563.400 186223.903, 547548.699 18...</td>\n",
       "    </tr>\n",
       "    <tr>\n",
       "      <th>3</th>\n",
       "      <td>4</td>\n",
       "      <td>E05000029</td>\n",
       "      <td>Chadwell Heath</td>\n",
       "      <td>None</td>\n",
       "      <td>548266</td>\n",
       "      <td>189340</td>\n",
       "      <td>0.138596</td>\n",
       "      <td>51.58342</td>\n",
       "      <td>3.384423e+06</td>\n",
       "      <td>9637.038631</td>\n",
       "      <td>POLYGON ((548880.909 191088.301, 548880.774 19...</td>\n",
       "    </tr>\n",
       "    <tr>\n",
       "      <th>4</th>\n",
       "      <td>5</td>\n",
       "      <td>E05000030</td>\n",
       "      <td>Eastbrook</td>\n",
       "      <td>None</td>\n",
       "      <td>550775</td>\n",
       "      <td>186271</td>\n",
       "      <td>0.173467</td>\n",
       "      <td>51.55518</td>\n",
       "      <td>3.450816e+06</td>\n",
       "      <td>9041.129639</td>\n",
       "      <td>POLYGON ((551552.951 187362.557, 551553.603 18...</td>\n",
       "    </tr>\n",
       "  </tbody>\n",
       "</table>\n",
       "</div>"
      ],
      "text/plain": [
       "   OBJECTID     WD20CD          WD20NM WD20NMW   BNG_E   BNG_N      LONG  \\\n",
       "0         1  E05000026           Abbey    None  544433  184376  0.081276   \n",
       "1         2  E05000027          Alibon    None  549247  185196  0.150987   \n",
       "2         3  E05000028       Becontree    None  546860  185870  0.116869   \n",
       "3         4  E05000029  Chadwell Heath    None  548266  189340  0.138596   \n",
       "4         5  E05000030       Eastbrook    None  550775  186271  0.173467   \n",
       "\n",
       "        LAT    Shape__Are   Shape__Len  \\\n",
       "0  51.53981  1.253243e+06  8139.563625   \n",
       "1  51.54592  1.364442e+06  6353.917640   \n",
       "2  51.55261  1.292418e+06  6356.336313   \n",
       "3  51.58342  3.384423e+06  9637.038631   \n",
       "4  51.55518  3.450816e+06  9041.129639   \n",
       "\n",
       "                                            geometry  \n",
       "0  MULTIPOLYGON (((543581.800 184798.250, 543579....  \n",
       "1  POLYGON ((549604.103 185773.202, 549613.098 18...  \n",
       "2  POLYGON ((547563.400 186223.903, 547548.699 18...  \n",
       "3  POLYGON ((548880.909 191088.301, 548880.774 19...  \n",
       "4  POLYGON ((551552.951 187362.557, 551553.603 18...  "
      ]
     },
     "execution_count": 3,
     "metadata": {},
     "output_type": "execute_result"
    }
   ],
   "source": [
    "geo_data.head()"
   ]
  },
  {
   "cell_type": "markdown",
   "metadata": {},
   "source": [
    "The geometry column contains the information we'll need to produce maps of the data. Other columns contain information such as the area of the polygons described by the geometry column, and the names given to the regions, which in this example are UK Wards. Geopandas has some built in plotting functions, as pandas does. For example:"
   ]
  },
  {
   "cell_type": "code",
   "execution_count": 4,
   "metadata": {},
   "outputs": [
    {
     "data": {
      "text/plain": [
       "<AxesSubplot:>"
      ]
     },
     "execution_count": 4,
     "metadata": {},
     "output_type": "execute_result"
    },
    {
     "data": {
      "image/png": "[encoded data removed]",
      "text/plain": [
       "<Figure size 432x288 with 1 Axes>"
      ]
     },
     "metadata": {
      "needs_background": "light"
     },
     "output_type": "display_data"
    }
   ],
   "source": [
    "geo_data.plot(column = 'LAT')"
   ]
  },
  {
   "cell_type": "markdown",
   "metadata": {},
   "source": [
    "However, we want to use plotly in this demonstration to make use of their interactive features. Plotly has a method for making choropleth maps, but it requires more explicitly passing it the geometry.  \n",
    "First, let's choose a subset of the data to visualise, by just taking a crop in lon/lat. Let's look around Liverpool."
   ]
  },
  {
   "cell_type": "code",
   "execution_count": 5,
   "metadata": {},
   "outputs": [],
   "source": [
    "geo_data_subset = geo_data[(geo_data['LAT']>53.3)&(geo_data['LAT']<53.8)&(geo_data['LONG']>-3.2)& (geo_data['LONG']<-2.6)]\n",
    "cropped = geo_data_subset[['WD20CD', 'LAT']]\n"
   ]
  },
  {
   "cell_type": "code",
   "execution_count": 6,
   "metadata": {},
   "outputs": [
    {
     "data": {
      "text/plain": [
       "<AxesSubplot:>"
      ]
     },
     "execution_count": 6,
     "metadata": {},
     "output_type": "execute_result"
    },
    {
     "data": {
      "image/png": "[encoded data removed]",
      "text/plain": [
       "<Figure size 432x288 with 1 Axes>"
      ]
     },
     "metadata": {
      "needs_background": "light"
     },
     "output_type": "display_data"
    }
   ],
   "source": [
    "geo_data_subset.plot(column = 'LAT')"
   ]
  },
  {
   "cell_type": "markdown",
   "metadata": {},
   "source": [
    "For use in the plotly choropleth function, we need our data as a *geojson* not as a shp file - the easiest way to convert the two is to use geopandas. "
   ]
  },
  {
   "cell_type": "code",
   "execution_count": 7,
   "metadata": {},
   "outputs": [
    {
     "name": "stderr",
     "output_type": "stream",
     "text": [
      "/opt/anaconda3/envs/personal/lib/python3.7/site-packages/pyproj/crs/crs.py:53: FutureWarning: '+init=<authority>:<code>' syntax is deprecated. '<authority>:<code>' is the preferred initialization method. When making the change, be mindful of axis order changes: https://pyproj4.github.io/pyproj/stable/gotchas.html#axis-order-changes-in-proj-6\n",
      "  return _prepare_from_string(\" \".join(pjargs))\n"
     ]
    }
   ],
   "source": [
    "geo_data_subset = geo_data_subset.to_crs({\"init\": \"epsg:4326\"})\n",
    "geo_data_subset.to_file('../data/test.geojson', driver=\"GeoJSON\")\n",
    "geo_data_subset = gpd.read_file('../data/test.geojson',)"
   ]
  },
  {
   "cell_type": "markdown",
   "metadata": {},
   "source": [
    "It's worth looking at the format of a geojson so the next steps make a bit more sense - it's defined here https://geojson.org/. If you are running this notebook yourself, have a look at the saved file using your text editor. The geopandas function converts the shapefile into the form me need, consisting of a top level \"type\" of \"FeatureCollection\" and another \"features\" entry defining a list of all of the features in the shapefile. Each feature should look similar to those defined by the GeoJSON page.\n",
    "  \n",
    "  \n",
    "There are a few things to take from the form of a GeoJSON. Each entry has a type, a geometry and properties. The **geometry** can be clearly seen in the \"geometry\" column of the shapefile - each shape we are plotting is defined by a name such as \"Polygon\", \"Multipolygon\" etc and a long list of coordinates that define that shape. These column is used by the GeoJSON driver in geopandas to build the GeoJSON. Also of important are the **properties** - every other column in the dataframe is mapped to the properties collection. I found this subtlety to be the main cause of error in getting this to work! For each entry in the feature collection, the \"properties\" attribute is a dictionary of key value pairs found from the dataframe - this structure will affect which key we pass to the plotly function. Typically, when plotting geographic data, your shapes and the data you wish to use to colour the shapes will be in the same geodataframe, so knowing that in a GeoJSON that they map to a subattribute of the properties attribute will be useful for accessing that data.  \n",
    "  \n",
    "You could try and make a file in this format yourself, but I have found geopandas works fine.\n",
    "  \n",
    "Alright, let's do a simple visualisation with plotly."
   ]
  },
  {
   "cell_type": "code",
   "execution_count": 9,
   "metadata": {},
   "outputs": [],
   "source": [
    "import plotly.express as px"
   ]
  },
  {
   "cell_type": "markdown",
   "metadata": {},
   "source": [
    "We are using plotly's choropleth function. Refer to their documentation for a fuller description of what is needed, but we pass:\n",
    "- *cropped* as the dataframe needed - it's from the same place as the geojson, but it could be anything with data we want to show\n",
    "- *geo_data_subset* as the geojson defining the shapes \n",
    "- color = 'LAT' : like in other plotly functions, you name the column of the dataframe (*cropped*) which provides the colours shown in the figure\n",
    "- locations = 'WD20CD' : which column in the dataframe defines the unique location identifiers\n",
    "- featureidkey ='properties.WD20CD' : how a feature can be joined to entries in the dataframe. This comes from the GeoJSON shape defined above - the unique identifiers in the dataframe are now in properties for GeoJSON objects\n",
    "- projection='meractor' geographical projection choice, choose as you prefer!\n",
    "  \n",
    "The key action happens in *locations* and *featureidkey*. Knowledge of the format of a GeoJSON is key here - without know we had to pass properties.WD20CD, we would assume to just pass the name of the column as we see it, WD20CD, and the function would fail to map between. Only when we give the correct column for the unique identifiers to connect the shape and the data can we visualise it successfully. "
   ]
  },
  {
   "cell_type": "code",
   "execution_count": 10,
   "metadata": {},
   "outputs": [
    {
     "data": {
      "text/plain": [
       "'temp-plot.html'"
      ]
     },
     "execution_count": 10,
     "metadata": {},
     "output_type": "execute_result"
    }
   ],
   "source": [
    "fig = px.choropleth(cropped, geojson = geo_data_subset, color = 'LAT', locations = 'WD20CD', featureidkey='properties.WD20CD', projection = 'mercator')\n",
    "fig.update_geos(fitbounds=\"locations\", visible=False)\n",
    "fig.update_layout(margin={\"r\": 0, \"t\": 0, \"l\": 0, \"b\": 0})\n",
    "plotly.offline.plot(fig)"
   ]
  },
  {
   "cell_type": "code",
   "execution_count": 11,
   "metadata": {},
   "outputs": [],
   "source": [
    "fig.write_html('../figs/geovis.html')"
   ]
  },
  {
   "cell_type": "markdown",
   "metadata": {},
   "source": [
    "OK - let's now try and do something slightly more involved and plot data from a different dataset. I'll use the 2011 Census population numbers downloaded from NOMIS. The geographies I am using are 2020 wards - they might not all match up, but as this is just a demonstration I won't worry about that. Your use case might mean you need to make sure you have all wards from the same time. When you download it as a csv, there is an amount of text which gets in the way of using the file at the top and bottom - I have manually removed these before importing."
   ]
  },
  {
   "cell_type": "code",
   "execution_count": 12,
   "metadata": {},
   "outputs": [
    {
     "data": {
      "text/html": [
       "<div>\n",
       "<style scoped>\n",
       "    .dataframe tbody tr th:only-of-type {\n",
       "        vertical-align: middle;\n",
       "    }\n",
       "\n",
       "    .dataframe tbody tr th {\n",
       "        vertical-align: top;\n",
       "    }\n",
       "\n",
       "    .dataframe thead th {\n",
       "        text-align: right;\n",
       "    }\n",
       "</style>\n",
       "<table border=\"1\" class=\"dataframe\">\n",
       "  <thead>\n",
       "    <tr style=\"text-align: right;\">\n",
       "      <th></th>\n",
       "      <th>2011 ward</th>\n",
       "      <th>2011</th>\n",
       "    </tr>\n",
       "  </thead>\n",
       "  <tbody>\n",
       "    <tr>\n",
       "      <th>1</th>\n",
       "      <td>E05001553 : Bank Top</td>\n",
       "      <td>4032.0</td>\n",
       "    </tr>\n",
       "    <tr>\n",
       "      <th>2</th>\n",
       "      <td>E05001554 : Central</td>\n",
       "      <td>4104.0</td>\n",
       "    </tr>\n",
       "    <tr>\n",
       "      <th>3</th>\n",
       "      <td>E05001555 : Cockerton East</td>\n",
       "      <td>5385.0</td>\n",
       "    </tr>\n",
       "    <tr>\n",
       "      <th>4</th>\n",
       "      <td>E05001556 : Cockerton West</td>\n",
       "      <td>4117.0</td>\n",
       "    </tr>\n",
       "    <tr>\n",
       "      <th>5</th>\n",
       "      <td>E05001557 : College</td>\n",
       "      <td>4163.0</td>\n",
       "    </tr>\n",
       "    <tr>\n",
       "      <th>6</th>\n",
       "      <td>E05001558 : Eastbourne</td>\n",
       "      <td>6516.0</td>\n",
       "    </tr>\n",
       "    <tr>\n",
       "      <th>7</th>\n",
       "      <td>E05001559 : Faverdale</td>\n",
       "      <td>2985.0</td>\n",
       "    </tr>\n",
       "    <tr>\n",
       "      <th>8</th>\n",
       "      <td>E05001560 : Harrowgate Hill</td>\n",
       "      <td>5997.0</td>\n",
       "    </tr>\n",
       "    <tr>\n",
       "      <th>9</th>\n",
       "      <td>E05001561 : Haughton East</td>\n",
       "      <td>4160.0</td>\n",
       "    </tr>\n",
       "    <tr>\n",
       "      <th>10</th>\n",
       "      <td>E05001562 : Haughton North</td>\n",
       "      <td>3341.0</td>\n",
       "    </tr>\n",
       "  </tbody>\n",
       "</table>\n",
       "</div>"
      ],
      "text/plain": [
       "                      2011 ward    2011\n",
       "1          E05001553 : Bank Top  4032.0\n",
       "2           E05001554 : Central  4104.0\n",
       "3    E05001555 : Cockerton East  5385.0\n",
       "4    E05001556 : Cockerton West  4117.0\n",
       "5           E05001557 : College  4163.0\n",
       "6        E05001558 : Eastbourne  6516.0\n",
       "7         E05001559 : Faverdale  2985.0\n",
       "8   E05001560 : Harrowgate Hill  5997.0\n",
       "9     E05001561 : Haughton East  4160.0\n",
       "10   E05001562 : Haughton North  3341.0"
      ]
     },
     "execution_count": 12,
     "metadata": {},
     "output_type": "execute_result"
    }
   ],
   "source": [
    "import pandas as pd\n",
    "pop_data = pd.read_csv('../data/Population.csv').dropna()\n",
    "pop_data.head(10)"
   ]
  },
  {
   "cell_type": "markdown",
   "metadata": {},
   "source": [
    "Already we can see the codes need reorganising to be in the same format as those in our shape file - a quick way is to split and save the code and name as separate columns"
   ]
  },
  {
   "cell_type": "code",
   "execution_count": 13,
   "metadata": {},
   "outputs": [],
   "source": [
    "code = [a.split(' : ')[0] for a in pop_data['2011 ward'].values]\n",
    "name = [a.split(' : ')[1] for a in pop_data['2011 ward'].values]"
   ]
  },
  {
   "cell_type": "code",
   "execution_count": 14,
   "metadata": {},
   "outputs": [],
   "source": [
    "pop_data['Code'] = code\n",
    "pop_data['Name'] = name\n"
   ]
  },
  {
   "cell_type": "markdown",
   "metadata": {},
   "source": [
    "Now we can use it with the choropleth function again"
   ]
  },
  {
   "cell_type": "code",
   "execution_count": 15,
   "metadata": {},
   "outputs": [],
   "source": [
    "fig = px.choropleth(pop_data, geojson = geo_data_subset, color = '2011',hover_name ='Name', locations = 'Code', featureidkey='properties.WD20CD', projection = 'mercator')\n",
    "fig.update_geos(fitbounds=\"locations\", visible=False)\n",
    "fig.update_layout(margin={\"r\": 0, \"t\": 0, \"l\": 0, \"b\": 0})\n",
    "fig.write_html('../figs/PopulationData.html')"
   ]
  },
  {
   "cell_type": "markdown",
   "metadata": {},
   "source": [
    "And a few lines to save it for putting in a html file courtesy of [this StackOverflow answer](https://stackoverflow.com/a/38032952/15191702)"
   ]
  },
  {
   "cell_type": "code",
   "execution_count": 16,
   "metadata": {},
   "outputs": [],
   "source": [
    "string = plotly.offline.plot(fig, include_plotlyjs=False, output_type = 'div')\n",
    "text_file = open('../data/VizDiv.txt', 'w')\n",
    "text_file.write(string)\n",
    "text_file.close()"
   ]
  },
  {
   "cell_type": "markdown",
   "metadata": {},
   "source": [
    "And we're done!"
   ]
  }
 ],
 "metadata": {
  "kernelspec": {
   "display_name": "Python3 - Ben",
   "language": "python",
   "name": "personal"
  },
  "language_info": {
   "codemirror_mode": {
    "name": "ipython",
    "version": 3
   },
   "file_extension": ".py",
   "mimetype": "text/x-python",
   "name": "python",
   "nbconvert_exporter": "python",
   "pygments_lexer": "ipython3",
   "version": "3.7.9"
  }
 },
 "nbformat": 4,
 "nbformat_minor": 4
}
